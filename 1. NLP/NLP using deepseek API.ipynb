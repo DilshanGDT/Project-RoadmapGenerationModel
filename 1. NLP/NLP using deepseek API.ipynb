{
 "cells": [
  {
   "cell_type": "code",
   "execution_count": 10,
   "id": "7239d2aa",
   "metadata": {},
   "outputs": [],
   "source": [
    "from openai import OpenAI\n",
    "import os\n",
    "from dotenv import load_dotenv\n",
    "\n",
    "# Use the OpenAI client, pointing to OpenRouter endpoint\n",
    "client = OpenAI(\n",
    "    base_url=\"https://openrouter.ai/api/v1\",\n",
    "    api_key=os.getenv(\"OPENROUTER_API_KEY\")\n",
    ")\n",
    "\n",
    "MODEL_NAME = \"deepseek/deepseek-r1-0528:free\"  # Or \"deepseek-ai/deepseek-chat\" or \"deepseek-ai/deepseek-v2\""
   ]
  },
  {
   "cell_type": "code",
   "execution_count": 11,
   "id": "e5a85f75",
   "metadata": {},
   "outputs": [],
   "source": [
    "def run_deepseek_nlp(prompt):\n",
    "    response = client.chat.completions.create(\n",
    "        model=MODEL_NAME,\n",
    "        messages=[\n",
    "            {\"role\": \"system\", \"content\": \"You are a helpful NLP assistant that performs tasks like NER and intent classification.\"},\n",
    "            {\"role\": \"user\", \"content\": prompt}\n",
    "        ],\n",
    "        temperature=0.3,\n",
    "    )\n",
    "    return response.choices[0].message.content"
   ]
  },
  {
   "cell_type": "code",
   "execution_count": 12,
   "id": "74b75ed5",
   "metadata": {},
   "outputs": [
    {
     "name": "stdout",
     "output_type": "stream",
     "text": [
      "NER Result: Based on the sentence:  \n",
      "**\"I want to travel Colombo and Kandy in Sri Lanka next week. Suggest me some beautiful places to visit in these cities.\"**  \n",
      "\n",
      "Here are the extracted named entities:  \n",
      "\n",
      "### **Locations**:  \n",
      "1. **Colombo** (city in Sri Lanka)  \n",
      "2. **Kandy** (city in Sri Lanka)  \n",
      "3. **Sri Lanka** (country)  \n",
      "\n",
      "### **Date/Time Expression**:  \n",
      "1. **next week** (relative time period)  \n",
      "\n",
      "### Summary:  \n",
      "- **Cities**: Colombo, Kandy  \n",
      "- **Country**: Sri Lanka  \n",
      "- **Timeframe**: next week  \n",
      "\n",
      "These entities capture the core travel details: destinations (cities and country) and timing.\n"
     ]
    }
   ],
   "source": [
    "ner_input = \"I want to travel Colombo and Kandy in Sri Lanka next week. Suggest me some beautiful places to visit in these cities.\"\n",
    "\n",
    "output = run_deepseek_nlp(f\"Extract named entities (locations, dates, etc.) from the following sentence:\\n\\n{ner_input}\")\n",
    "print(\"NER Result:\", output)"
   ]
  },
  {
   "cell_type": "markdown",
   "id": "924e27fb",
   "metadata": {},
   "source": [
    "Structued JSON output from the NLP"
   ]
  },
  {
   "cell_type": "code",
   "execution_count": 13,
   "id": "ccb5cda1",
   "metadata": {},
   "outputs": [
    {
     "name": "stdout",
     "output_type": "stream",
     "text": [
      "NER Result: ```json\n",
      "{\n",
      "  \"locations\": [\n",
      "    {\n",
      "      \"name\": \"Colombo\",\n",
      "      \"type\": \"city\"\n",
      "    },\n",
      "    {\n",
      "      \"name\": \"Kandy\",\n",
      "      \"type\": \"city\"\n",
      "    },\n",
      "    {\n",
      "      \"name\": \"Sri Lanka\",\n",
      "      \"type\": \"country\"\n",
      "    }\n",
      "  ],\n",
      "  \"date_expressions\": [\n",
      "    {\n",
      "      \"expression\": \"next week\",\n",
      "      \"parsed\": {\n",
      "        \"relative_period\": \"next_week\",\n",
      "        \"normalized\": \"7-day period starting from the upcoming Monday\"\n",
      "      },\n",
      "      \"type\": \"relative_date\"\n",
      "    }\n",
      "  ]\n",
      "}\n",
      "```\n",
      "\n",
      "### Explanation:\n",
      "1. **Locations**:\n",
      "   - \"Colombo\" and \"Kandy\" are identified as cities.\n",
      "   - \"Sri Lanka\" is identified as a country.\n",
      "\n",
      "2. **Date Expressions**:\n",
      "   - \"next week\" is a relative date expression.\n",
      "   - Parsed as a 7-day period starting from the upcoming Monday (since absolute dates require a reference point, this is normalized to a descriptive form).\n"
     ]
    }
   ],
   "source": [
    "ner_input = \"I want to travel Colombo and Kandy in Sri Lanka next week. Suggest me some beautiful places to visit in these cities.\"\n",
    "\n",
    "output = run_deepseek_nlp(f\"Extract named entities from the following sentence and return the result in JSON format with clearly labeled fields. Include locations, date expressions (parsed if possible), and types of entities:\\n\\n{ner_input}\")\n",
    "print(\"NER Result:\", output)"
   ]
  }
 ],
 "metadata": {
  "kernelspec": {
   "display_name": "venv",
   "language": "python",
   "name": "python3"
  },
  "language_info": {
   "codemirror_mode": {
    "name": "ipython",
    "version": 3
   },
   "file_extension": ".py",
   "mimetype": "text/x-python",
   "name": "python",
   "nbconvert_exporter": "python",
   "pygments_lexer": "ipython3",
   "version": "3.10.11"
  }
 },
 "nbformat": 4,
 "nbformat_minor": 5
}
