{
 "cells": [
  {
   "cell_type": "code",
   "execution_count": 9,
   "id": "7239d2aa",
   "metadata": {},
   "outputs": [],
   "source": [
    "from openai import OpenAI\n",
    "import os\n",
    "from dotenv import load_dotenv\n",
    "\n",
    "# Use the OpenAI client, pointing to OpenRouter endpoint\n",
    "client = OpenAI(\n",
    "    base_url=\"https://openrouter.ai/api/v1\",\n",
    "    api_key=os.getenv(\"OPENROUTER_API_KEY\")\n",
    ")\n",
    "\n",
    "MODEL_NAME = \"deepseek/deepseek-r1-0528:free\"  # Or \"deepseek-ai/deepseek-chat\" or \"deepseek-ai/deepseek-v2\""
   ]
  },
  {
   "cell_type": "code",
   "execution_count": 10,
   "id": "e5a85f75",
   "metadata": {},
   "outputs": [],
   "source": [
    "def run_deepseek_nlp(prompt):\n",
    "    response = client.chat.completions.create(\n",
    "        model=MODEL_NAME,\n",
    "        messages=[\n",
    "            {\"role\": \"system\", \"content\": \"You are a helpful NLP assistant that performs tasks like NER and intent classification.\"},\n",
    "            {\"role\": \"user\", \"content\": prompt}\n",
    "        ],\n",
    "        temperature=0.3,\n",
    "    )\n",
    "    return response.choices[0].message.content"
   ]
  },
  {
   "cell_type": "code",
   "execution_count": 11,
   "id": "74b75ed5",
   "metadata": {},
   "outputs": [
    {
     "name": "stdout",
     "output_type": "stream",
     "text": [
      "NER Result: Based on the sentence provided, here are the extracted named entities:\n",
      "\n",
      "### **Locations**:\n",
      "1. **Colombo** - City in Sri Lanka  \n",
      "2. **Kandy** - City in Sri Lanka  \n",
      "3. **Sri Lanka** - Country  \n",
      "\n",
      "### **Date**:\n",
      "- **next week** - Relative time expression indicating an upcoming timeframe.  \n",
      "\n",
      "### Summary in JSON format:\n",
      "```json\n",
      "[\n",
      "  {\"entity\": \"Colombo\", \"type\": \"LOCATION\"},\n",
      "  {\"entity\": \"Kandy\", \"type\": \"LOCATION\"},\n",
      "  {\"entity\": \"Sri Lanka\", \"type\": \"LOCATION\"},\n",
      "  {\"entity\": \"next week\", \"type\": \"DATE\"}\n",
      "]\n",
      "```\n",
      "\n",
      "### Explanation:\n",
      "- **Colombo** and **Kandy** are specific cities, while **Sri Lanka** is the country encompassing both.  \n",
      "- **next week** is a temporal expression referring to the week following the current one.  \n",
      "- No other named entities (e.g., organizations, people) were detected.\n"
     ]
    }
   ],
   "source": [
    "ner_input = \"I want to travel Colombo and Kandy in Sri Lanka next week. Suggest me some beautiful places to visit in these cities.\"\n",
    "\n",
    "output = run_deepseek_nlp(f\"Extract named entities (locations, dates, etc.) from the following sentence:\\n\\n{ner_input}\")\n",
    "print(\"NER Result:\", output)"
   ]
  },
  {
   "cell_type": "markdown",
   "id": "924e27fb",
   "metadata": {},
   "source": [
    "Structued JSON output from the NLP"
   ]
  },
  {
   "cell_type": "code",
   "execution_count": 13,
   "id": "ccb5cda1",
   "metadata": {},
   "outputs": [
    {
     "name": "stdout",
     "output_type": "stream",
     "text": [
      "NER Result: ```json\n",
      "{\n",
      "  \"locations\": [\n",
      "    {\n",
      "      \"name\": \"Colombo\",\n",
      "      \"type\": \"city\"\n",
      "    },\n",
      "    {\n",
      "      \"name\": \"Kandy\",\n",
      "      \"type\": \"city\"\n",
      "    },\n",
      "    {\n",
      "      \"name\": \"Sri Lanka\",\n",
      "      \"type\": \"country\"\n",
      "    }\n",
      "  ],\n",
      "  \"date_expressions\": [\n",
      "    {\n",
      "      \"expression\": \"next week\",\n",
      "      \"parsed_value\": \"relative date referring to the week following the current one\",\n",
      "      \"type\": \"relative_date\"\n",
      "    }\n",
      "  ]\n",
      "}\n",
      "```\n",
      "\n",
      "### Explanation:\n",
      "- **Locations**:\n",
      "  - \"Colombo\" and \"Kandy\" are identified as cities.\n",
      "  - \"Sri Lanka\" is identified as a country.\n",
      "- **Date Expressions**:\n",
      "  - \"next week\" is a relative date expression. Since no specific reference date is provided, it's parsed as a general description meaning \"the week following the current one\". Absolute dates (e.g., specific start/end dates) cannot be determined without knowing the current date.\n"
     ]
    }
   ],
   "source": [
    "ner_input = \"I want to travel Colombo and Kandy in Sri Lanka next week. Suggest me some beautiful places to visit in these cities.\"\n",
    "\n",
    "output = run_deepseek_nlp(f\"Extract named entities from the following sentence and return the result in JSON format with clearly labeled fields. Include locations, date expressions (parsed if possible), and types of entities:\\n\\n{ner_input}\")\n",
    "print(\"NER Result:\", output)"
   ]
  }
 ],
 "metadata": {
  "kernelspec": {
   "display_name": "venv",
   "language": "python",
   "name": "python3"
  },
  "language_info": {
   "codemirror_mode": {
    "name": "ipython",
    "version": 3
   },
   "file_extension": ".py",
   "mimetype": "text/x-python",
   "name": "python",
   "nbconvert_exporter": "python",
   "pygments_lexer": "ipython3",
   "version": "3.10.11"
  }
 },
 "nbformat": 4,
 "nbformat_minor": 5
}
