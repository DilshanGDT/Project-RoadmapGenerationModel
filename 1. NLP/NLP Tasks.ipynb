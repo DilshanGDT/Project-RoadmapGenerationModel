{
 "cells": [
  {
   "cell_type": "code",
   "execution_count": 1,
   "id": "65239545",
   "metadata": {},
   "outputs": [],
   "source": [
    "# Import Libraries\n",
    "import re\n",
    "import spacy\n",
    "import nltk\n",
    "from nltk.corpus import stopwords\n",
    "from keybert import KeyBERT\n",
    "from sentence_transformers import SentenceTransformer"
   ]
  },
  {
   "cell_type": "code",
   "execution_count": 2,
   "id": "f7c0aa03",
   "metadata": {},
   "outputs": [
    {
     "name": "stderr",
     "output_type": "stream",
     "text": [
      "[nltk_data] Downloading package stopwords to\n",
      "[nltk_data]     C:\\Users\\thara\\AppData\\Roaming\\nltk_data...\n",
      "[nltk_data]   Package stopwords is already up-to-date!\n"
     ]
    },
    {
     "name": "stdout",
     "output_type": "stream",
     "text": [
      "Original Input: I want to visit Kandy. What are the places I can travel?\n",
      "\n",
      "Cleaned Text: want visit kandy places travel\n",
      "\n",
      "Detected Intent: Travel Roadmap Generation\n",
      "\n",
      "Extracted Entities: [('Kandy', 'PERSON')]\n",
      "\n",
      "Extracted Keywords: [('kandy', 0.5729), ('visit', 0.4209), ('travel', 0.3944), ('places', 0.3555), ('want', 0.1613)]\n",
      "\n",
      "Generated Embedding Shape: (384,)\n"
     ]
    }
   ],
   "source": [
    "# Download NLTK stopwords (only once)\n",
    "nltk.download('stopwords')\n",
    "stop_words = set(stopwords.words('english'))\n",
    "\n",
    "# Load Models\n",
    "nlp_spacy = spacy.load(\"en_core_web_sm\")            # You can replace with transformer-based model later\n",
    "kw_model = KeyBERT(model='all-MiniLM-L6-v2')\n",
    "embedder = SentenceTransformer('all-MiniLM-L6-v2')  # Lightweight but very strong embeddings\n",
    "\n",
    "# MiniLM: A very lightweight sentence transformer that fits easily on your laptop (384-dimensional vector)\n",
    "\n",
    "# 1. Text Cleaning Function\n",
    "def clean_text(text):\n",
    "    text = text.lower()                         # convert to lowercase\n",
    "    text = re.sub(r'[^a-zA-Z0-9\\s]', '', text)  # remove special characters\n",
    "    tokens = text.split()                       # split into words\n",
    "    tokens = [word for word in tokens if word not in stop_words]    # remove stopwords\n",
    "    cleaned_text = ' '.join(tokens)\n",
    "    return cleaned_text\n",
    "\n",
    "# 2. Intent Detection (Simple Rule-based)\n",
    "def detect_intent(text):\n",
    "    travel_keywords = [\"visit\", \"travel\", \"trip\", \"tour\", \"vacation\", \"places\"] \n",
    "    # can be replace this later with a fine-tuned classifier or use Gemini via API\n",
    "    if any(word in text.lower() for word in travel_keywords):\n",
    "        return \"Travel Roadmap Generation\"\n",
    "    else:\n",
    "        return \"Unknown Intent (Expand Later)\"\n",
    "\n",
    "# 3. Named Entity Recognition (NER)\n",
    "def extract_entities(text):\n",
    "    doc = nlp_spacy(text)\n",
    "    entities = [(ent.text, ent.label_) for ent in doc.ents]\n",
    "    return entities\n",
    "\n",
    "# 4. Keyword Extraction (KeyBERT)\n",
    "def extract_keywords(text, top_n=5):\n",
    "    keywords = kw_model.extract_keywords(text, top_n=top_n)\n",
    "    return keywords\n",
    "\n",
    "# 5. Embedding Generation\n",
    "def generate_embedding(text):\n",
    "    embedding = embedder.encode(text)\n",
    "    return embedding\n",
    "\n",
    "# MASTER FUNCTION: Run Full Pipeline\n",
    "def run_pipeline(user_input):\n",
    "    print(\"Original Input:\", user_input)\n",
    "    cleaned = clean_text(user_input)\n",
    "    print(\"\\nCleaned Text:\", cleaned)\n",
    "    \n",
    "    intent = detect_intent(user_input)\n",
    "    print(\"\\nDetected Intent:\", intent)\n",
    "    \n",
    "    entities = extract_entities(user_input)\n",
    "    print(\"\\nExtracted Entities:\", entities)\n",
    "    \n",
    "    keywords = extract_keywords(user_input)\n",
    "    print(\"\\nExtracted Keywords:\", keywords)\n",
    "    \n",
    "    embedding = generate_embedding(user_input)\n",
    "    print(\"\\nGenerated Embedding Shape:\", embedding.shape)\n",
    "\n",
    "# Test Example\n",
    "if __name__ == \"__main__\":\n",
    "    user_prompt = \"I want to visit Kandy. What are the places I can travel?\"\n",
    "    run_pipeline(user_prompt)"
   ]
  },
  {
   "cell_type": "code",
   "execution_count": 3,
   "id": "43064342",
   "metadata": {},
   "outputs": [
    {
     "name": "stdout",
     "output_type": "stream",
     "text": [
      "Original Input: I am plan to visit Colombo and Kalutara next week. What are the possible beatiful places that i can travel to get very good food expereince?\n",
      "\n",
      "Cleaned Text: plan visit colombo kalutara next week possible beatiful places travel get good food expereince\n",
      "\n",
      "Detected Intent: Travel Roadmap Generation\n",
      "\n",
      "Extracted Entities: [('Colombo', 'PERSON'), ('Kalutara', 'PERSON'), ('next week', 'DATE')]\n",
      "\n",
      "Extracted Keywords: [('colombo', 0.5895), ('places', 0.392), ('food', 0.3478), ('visit', 0.289), ('kalutara', 0.2885)]\n",
      "\n",
      "Generated Embedding Shape: (384,)\n"
     ]
    }
   ],
   "source": [
    "# Test Example\n",
    "if __name__ == \"__main__\":\n",
    "    user_prompt = \"I am plan to visit Colombo and Kalutara next week. What are the possible beatiful places that i can travel to get very good food expereince?\"\n",
    "    run_pipeline(user_prompt)"
   ]
  },
  {
   "cell_type": "code",
   "execution_count": 4,
   "id": "2d6c0313",
   "metadata": {},
   "outputs": [],
   "source": [
    "from transformers import BertTokenizer, BertForSequenceClassification\n",
    "import torch\n",
    "from transformers import AutoTokenizer, AutoModelForTokenClassification, pipeline"
   ]
  },
  {
   "cell_type": "code",
   "execution_count": 5,
   "id": "1aae0074",
   "metadata": {},
   "outputs": [
    {
     "name": "stderr",
     "output_type": "stream",
     "text": [
      "[nltk_data] Downloading package stopwords to\n",
      "[nltk_data]     C:\\Users\\thara\\AppData\\Roaming\\nltk_data...\n",
      "[nltk_data]   Package stopwords is already up-to-date!\n",
      "Some weights of the model checkpoint at dslim/bert-base-NER were not used when initializing BertForTokenClassification: ['bert.pooler.dense.bias', 'bert.pooler.dense.weight']\n",
      "- This IS expected if you are initializing BertForTokenClassification from the checkpoint of a model trained on another task or with another architecture (e.g. initializing a BertForSequenceClassification model from a BertForPreTraining model).\n",
      "- This IS NOT expected if you are initializing BertForTokenClassification from the checkpoint of a model that you expect to be exactly identical (initializing a BertForSequenceClassification model from a BertForSequenceClassification model).\n",
      "Device set to use cuda:0\n"
     ]
    },
    {
     "name": "stdout",
     "output_type": "stream",
     "text": [
      "Original Input: I want to visit Kandy. What are the places I can travel?\n",
      "\n",
      "Cleaned Text: want visit kandy places travel\n",
      "\n",
      "Extracted Entities: [('Kandy', 'LOC')]\n",
      "\n",
      "Extracted Keywords: [('kandy', 0.5729), ('visit', 0.4209), ('travel', 0.3944), ('places', 0.3555)]\n",
      "\n",
      "Generated Embedding Shape: (384,)\n"
     ]
    }
   ],
   "source": [
    "# Download NLTK stopwords (only once)\n",
    "nltk.download('stopwords')\n",
    "stop_words = set(stopwords.words('english'))\n",
    "\n",
    "# Load Models\n",
    "# nlp_spacy = spacy.load(\"en_core_web_sm\")            # You can replace with transformer-based model later\n",
    "kw_model = KeyBERT(model='all-MiniLM-L6-v2')\n",
    "embedder = SentenceTransformer('all-MiniLM-L6-v2')  # Lightweight but very strong embeddings\n",
    "\n",
    "# MiniLM: A very lightweight sentence transformer that fits easily on your laptop (384-dimensional vector)\n",
    "\n",
    "# 1. Text Cleaning Function\n",
    "def clean_text(text):\n",
    "    text = text.lower()                         # convert to lowercase\n",
    "    text = re.sub(r'[^a-zA-Z0-9\\s]', '', text)  # remove special characters\n",
    "    tokens = text.split()                       # split into words\n",
    "    tokens = [word for word in tokens if word not in stop_words]    # remove stopwords\n",
    "    cleaned_text = ' '.join(tokens)\n",
    "    return cleaned_text\n",
    "\n",
    "# 2. Intent Detection (Simple Rule-based)\n",
    "\n",
    "# Load your fine-tuned model (replace this path with your model path or HF repo)\n",
    "# tokenizer_intent = BertTokenizer.from_pretrained(\"bert-base-uncased\")\n",
    "# model_intent = BertForSequenceClassification.from_pretrained(\"your-finetuned-intent-model\")\n",
    "\n",
    "# def detect_intent(text):\n",
    "#     inputs = tokenizer_intent(text, return_tensors=\"pt\", truncation=True, padding=True)\n",
    "#     with torch.no_grad():\n",
    "#         outputs = model_intent(**inputs)\n",
    "#     probs = torch.nn.functional.softmax(outputs.logits, dim=1)\n",
    "#     predicted_class = torch.argmax(probs, dim=1).item()\n",
    "    \n",
    "#     label_map = {0: \"Travel Roadmap Generation\", 1: \"Learning Roadmap\", 2: \"Job Preparation\", 3: \"Unknown\"}\n",
    "#     return label_map.get(predicted_class, \"Unknown\")\n",
    "\n",
    "# 3. Named Entity Recognition (NER)\n",
    "ner_tokenizer = AutoTokenizer.from_pretrained(\"dslim/bert-base-NER\")\n",
    "ner_model = AutoModelForTokenClassification.from_pretrained(\"dslim/bert-base-NER\")\n",
    "ner_pipeline = pipeline(\"ner\", model=ner_model, tokenizer=ner_tokenizer, aggregation_strategy=\"simple\")\n",
    "\n",
    "def extract_entities(text):\n",
    "    ner_results = ner_pipeline(text)\n",
    "    return [(ent['word'], ent['entity_group']) for ent in ner_results]\n",
    "\n",
    "# 4. Keyword Extraction (KeyBERT)\n",
    "def extract_keywords(text, top_n=None):\n",
    "    word_count = len(text.split())\n",
    "    top_n = top_n if top_n else min(10, max(3, word_count // 3))\n",
    "    return kw_model.extract_keywords(text, top_n=top_n)\n",
    "\n",
    "# 5. Embedding Generation\n",
    "def generate_embedding(text):\n",
    "    embedding = embedder.encode(text)\n",
    "    return embedding\n",
    "\n",
    "# MASTER FUNCTION: Run Full Pipeline\n",
    "def run_pipeline(user_input):\n",
    "    print(\"Original Input:\", user_input)\n",
    "    cleaned = clean_text(user_input)\n",
    "    print(\"\\nCleaned Text:\", cleaned)\n",
    "    \n",
    "    # intent = detect_intent(user_input)\n",
    "    # print(\"\\nDetected Intent:\", intent)\n",
    "    \n",
    "    entities = extract_entities(user_input)\n",
    "    print(\"\\nExtracted Entities:\", entities)\n",
    "    \n",
    "    keywords = extract_keywords(user_input)\n",
    "    print(\"\\nExtracted Keywords:\", keywords)\n",
    "    \n",
    "    embedding = generate_embedding(user_input)\n",
    "    print(\"\\nGenerated Embedding Shape:\", embedding.shape)\n",
    "\n",
    "# Test Example\n",
    "if __name__ == \"__main__\":\n",
    "    user_prompt = \"I want to visit Kandy. What are the places I can travel?\"\n",
    "    run_pipeline(user_prompt)"
   ]
  },
  {
   "cell_type": "code",
   "execution_count": 6,
   "id": "76ff1ed0",
   "metadata": {},
   "outputs": [
    {
     "name": "stdout",
     "output_type": "stream",
     "text": [
      "Original Input: I want to visit Kandy and colombo. What are the places I can travel?\n",
      "\n",
      "Cleaned Text: want visit kandy colombo places travel\n",
      "\n",
      "Extracted Entities: [('Kandy', 'LOC'), ('co', 'LOC')]\n",
      "\n",
      "Extracted Keywords: [('colombo', 0.6636), ('visit', 0.4042), ('places', 0.3634), ('travel', 0.3561)]\n",
      "\n",
      "Generated Embedding Shape: (384,)\n"
     ]
    }
   ],
   "source": [
    "# Test Example\n",
    "if __name__ == \"__main__\":\n",
    "    user_prompt = \"I want to visit Kandy and colombo. What are the places I can travel?\"\n",
    "    run_pipeline(user_prompt)"
   ]
  }
 ],
 "metadata": {
  "kernelspec": {
   "display_name": "venv",
   "language": "python",
   "name": "python3"
  },
  "language_info": {
   "codemirror_mode": {
    "name": "ipython",
    "version": 3
   },
   "file_extension": ".py",
   "mimetype": "text/x-python",
   "name": "python",
   "nbconvert_exporter": "python",
   "pygments_lexer": "ipython3",
   "version": "3.10.11"
  }
 },
 "nbformat": 4,
 "nbformat_minor": 5
}
