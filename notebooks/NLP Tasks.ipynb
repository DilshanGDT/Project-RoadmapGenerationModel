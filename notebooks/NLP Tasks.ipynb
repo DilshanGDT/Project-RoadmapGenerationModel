{
 "cells": [
  {
   "cell_type": "code",
   "execution_count": 1,
   "id": "65239545",
   "metadata": {},
   "outputs": [],
   "source": [
    "# Import Libraries\n",
    "import re\n",
    "import spacy\n",
    "import nltk\n",
    "from nltk.corpus import stopwords\n",
    "from keybert import KeyBERT\n",
    "from sentence_transformers import SentenceTransformer"
   ]
  },
  {
   "cell_type": "code",
   "execution_count": 2,
   "id": "f7c0aa03",
   "metadata": {},
   "outputs": [
    {
     "name": "stderr",
     "output_type": "stream",
     "text": [
      "[nltk_data] Downloading package stopwords to\n",
      "[nltk_data]     C:\\Users\\thara\\AppData\\Roaming\\nltk_data...\n",
      "[nltk_data]   Package stopwords is already up-to-date!\n"
     ]
    },
    {
     "name": "stdout",
     "output_type": "stream",
     "text": [
      "Original Input: I want to visit Kandy. What are the places I can travel?\n",
      "\n",
      "Cleaned Text: want visit kandy places travel\n",
      "\n",
      "Detected Intent: Travel Roadmap Generation\n",
      "\n",
      "Extracted Entities: [('Kandy', 'PERSON')]\n",
      "\n",
      "Extracted Keywords: [('kandy', 0.5729), ('visit', 0.4209), ('travel', 0.3944), ('places', 0.3555), ('want', 0.1613)]\n",
      "\n",
      "Generated Embedding Shape: (384,)\n"
     ]
    }
   ],
   "source": [
    "# Download NLTK stopwords (only once)\n",
    "nltk.download('stopwords')\n",
    "stop_words = set(stopwords.words('english'))\n",
    "\n",
    "# Load Models\n",
    "nlp_spacy = spacy.load(\"en_core_web_sm\")            # You can replace with transformer-based model later\n",
    "kw_model = KeyBERT(model='all-MiniLM-L6-v2')\n",
    "embedder = SentenceTransformer('all-MiniLM-L6-v2')  # Lightweight but very strong embeddings\n",
    "\n",
    "# MiniLM: A very lightweight sentence transformer that fits easily on your laptop (384-dimensional vector)\n",
    "\n",
    "# 1. Text Cleaning Function\n",
    "def clean_text(text):\n",
    "    text = text.lower()                         # convert to lowercase\n",
    "    text = re.sub(r'[^a-zA-Z0-9\\s]', '', text)  # remove special characters\n",
    "    tokens = text.split()                       # split into words\n",
    "    tokens = [word for word in tokens if word not in stop_words]    # remove stopwords\n",
    "    cleaned_text = ' '.join(tokens)\n",
    "    return cleaned_text\n",
    "\n",
    "# 2. Intent Detection (Simple Rule-based)\n",
    "def detect_intent(text):\n",
    "    travel_keywords = [\"visit\", \"travel\", \"trip\", \"tour\", \"vacation\", \"places\"] \n",
    "    # can be replace this later with a fine-tuned classifier or use Gemini via API\n",
    "    if any(word in text.lower() for word in travel_keywords):\n",
    "        return \"Travel Roadmap Generation\"\n",
    "    else:\n",
    "        return \"Unknown Intent (Expand Later)\"\n",
    "\n",
    "# 3. Named Entity Recognition (NER)\n",
    "def extract_entities(text):\n",
    "    doc = nlp_spacy(text)\n",
    "    entities = [(ent.text, ent.label_) for ent in doc.ents]\n",
    "    return entities\n",
    "\n",
    "# 4. Keyword Extraction (KeyBERT)\n",
    "def extract_keywords(text, top_n=5):\n",
    "    keywords = kw_model.extract_keywords(text, top_n=top_n)\n",
    "    return keywords\n",
    "\n",
    "# 5. Embedding Generation\n",
    "def generate_embedding(text):\n",
    "    embedding = embedder.encode(text)\n",
    "    return embedding\n",
    "\n",
    "# MASTER FUNCTION: Run Full Pipeline\n",
    "def run_pipeline(user_input):\n",
    "    print(\"Original Input:\", user_input)\n",
    "    cleaned = clean_text(user_input)\n",
    "    print(\"\\nCleaned Text:\", cleaned)\n",
    "    \n",
    "    intent = detect_intent(user_input)\n",
    "    print(\"\\nDetected Intent:\", intent)\n",
    "    \n",
    "    entities = extract_entities(user_input)\n",
    "    print(\"\\nExtracted Entities:\", entities)\n",
    "    \n",
    "    keywords = extract_keywords(user_input)\n",
    "    print(\"\\nExtracted Keywords:\", keywords)\n",
    "    \n",
    "    embedding = generate_embedding(user_input)\n",
    "    print(\"\\nGenerated Embedding Shape:\", embedding.shape)\n",
    "\n",
    "# Test Example\n",
    "if __name__ == \"__main__\":\n",
    "    user_prompt = \"I want to visit Kandy. What are the places I can travel?\"\n",
    "    run_pipeline(user_prompt)"
   ]
  }
 ],
 "metadata": {
  "kernelspec": {
   "display_name": "venv",
   "language": "python",
   "name": "python3"
  },
  "language_info": {
   "codemirror_mode": {
    "name": "ipython",
    "version": 3
   },
   "file_extension": ".py",
   "mimetype": "text/x-python",
   "name": "python",
   "nbconvert_exporter": "python",
   "pygments_lexer": "ipython3",
   "version": "3.10.11"
  }
 },
 "nbformat": 4,
 "nbformat_minor": 5
}
