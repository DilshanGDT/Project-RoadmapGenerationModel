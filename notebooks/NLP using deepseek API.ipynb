{
 "cells": [
  {
   "cell_type": "code",
   "execution_count": 3,
   "id": "7239d2aa",
   "metadata": {},
   "outputs": [],
   "source": [
    "from openai import OpenAI\n",
    "import os\n",
    "from dotenv import load_dotenv\n",
    "\n",
    "# Use the OpenAI client, pointing to OpenRouter endpoint\n",
    "client = OpenAI(\n",
    "    base_url=\"https://openrouter.ai/api/v1\",\n",
    "    api_key=os.getenv(\"OPENROUTER_API_KEY\")\n",
    ")\n",
    "\n",
    "MODEL_NAME = \"deepseek/deepseek-r1-0528:free\"  # Or \"deepseek-ai/deepseek-chat\" or \"deepseek-ai/deepseek-v2\""
   ]
  },
  {
   "cell_type": "code",
   "execution_count": 4,
   "id": "e5a85f75",
   "metadata": {},
   "outputs": [],
   "source": [
    "def run_deepseek_nlp(prompt):\n",
    "    response = client.chat.completions.create(\n",
    "        model=MODEL_NAME,\n",
    "        messages=[\n",
    "            {\"role\": \"system\", \"content\": \"You are a helpful NLP assistant that performs tasks like NER and intent classification.\"},\n",
    "            {\"role\": \"user\", \"content\": prompt}\n",
    "        ],\n",
    "        temperature=0.3,\n",
    "    )\n",
    "    return response.choices[0].message.content"
   ]
  },
  {
   "cell_type": "code",
   "execution_count": 5,
   "id": "74b75ed5",
   "metadata": {},
   "outputs": [
    {
     "name": "stdout",
     "output_type": "stream",
     "text": [
      "NER Result: Based on the sentence provided, here are the extracted named entities categorized by type:\n",
      "\n",
      "### **Locations (GPE: Geo-Political Entities)**:\n",
      "- **Colombo** (City in Sri Lanka)  \n",
      "- **Kandy** (City in Sri Lanka)  \n",
      "- **Sri Lanka** (Country)  \n",
      "\n",
      "### **Date/Time Expression**:\n",
      "- **next week** (Relative time indicator)  \n",
      "\n",
      "### Summary:\n",
      "- **Locations**: Colombo, Kandy, Sri Lanka  \n",
      "- **Date**: next week  \n",
      "\n",
      "These entities capture key information about travel destinations and timing mentioned in the query.\n"
     ]
    }
   ],
   "source": [
    "ner_input = \"I want to travel Colombo and Kandy in Sri Lanka next week. Suggest me some beautiful places to visit in these cities.\"\n",
    "\n",
    "output = run_deepseek_nlp(f\"Extract named entities (locations, dates, etc.) from the following sentence:\\n\\n{ner_input}\")\n",
    "print(\"NER Result:\", output)"
   ]
  }
 ],
 "metadata": {
  "kernelspec": {
   "display_name": "venv",
   "language": "python",
   "name": "python3"
  },
  "language_info": {
   "codemirror_mode": {
    "name": "ipython",
    "version": 3
   },
   "file_extension": ".py",
   "mimetype": "text/x-python",
   "name": "python",
   "nbconvert_exporter": "python",
   "pygments_lexer": "ipython3",
   "version": "3.10.11"
  }
 },
 "nbformat": 4,
 "nbformat_minor": 5
}
