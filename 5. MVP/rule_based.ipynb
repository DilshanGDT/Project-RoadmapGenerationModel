{
 "cells": [
  {
   "cell_type": "code",
   "execution_count": 12,
   "id": "1bcbfff1",
   "metadata": {},
   "outputs": [],
   "source": [
    "import json\n",
    "\n",
    "with open(\"../3. Feed Scraped Data/sri_lanka_safaris_with_features.json\", \"r\", encoding=\"utf-8\") as f:\n",
    "    tours = json.load(f)"
   ]
  },
  {
   "cell_type": "markdown",
   "id": "7d31f8d3",
   "metadata": {},
   "source": [
    "Group by Category or Difficulty"
   ]
  },
  {
   "cell_type": "code",
   "execution_count": 13,
   "id": "63afe08c",
   "metadata": {},
   "outputs": [],
   "source": [
    "from collections import defaultdict\n",
    "\n",
    "def group_tours(tours, group_by=\"category\"):\n",
    "    grouped = defaultdict(list)\n",
    "    for tour in tours:\n",
    "        key = tour.get(group_by, \"Unknown\")\n",
    "        grouped[key].append(tour)\n",
    "    return grouped\n",
    "\n",
    "grouped_by_category = group_tours(tours, \"category\")"
   ]
  },
  {
   "cell_type": "code",
   "execution_count": 14,
   "id": "f566c3e5",
   "metadata": {},
   "outputs": [],
   "source": [
    "def sort_group(group, sort_by=\"popularity\", reverse=True):\n",
    "    return sorted(group, key=lambda x: x.get(sort_by, 0), reverse=reverse)\n",
    "\n",
    "for cat, items in grouped_by_category.items():\n",
    "    grouped_by_category[cat] = sort_group(items, \"popularity\")"
   ]
  },
  {
   "cell_type": "code",
   "execution_count": 15,
   "id": "d4fe3711",
   "metadata": {},
   "outputs": [],
   "source": [
    "roadmap = []\n",
    "preferred_order = [\"Wildlife\", \"Cultural\", \"Adventure\"]\n",
    "\n",
    "for category in preferred_order:\n",
    "    if category in grouped_by_category:\n",
    "        roadmap.extend(grouped_by_category[category])"
   ]
  },
  {
   "cell_type": "code",
   "execution_count": 16,
   "id": "23536f6f",
   "metadata": {},
   "outputs": [],
   "source": [
    "def recommend(user_goal, tours, top_n=5):\n",
    "    results = [tour for tour in tours if user_goal.lower() in tour.get('category', '').lower()]\n",
    "    results = sort_group(results, sort_by=\"popularity\")\n",
    "    return results[:top_n]\n",
    "\n",
    "# Example\n",
    "user_goal = \"wildlife\"\n",
    "top_recommendations = recommend(user_goal, tours)"
   ]
  },
  {
   "cell_type": "markdown",
   "id": "b3ebb3cf",
   "metadata": {},
   "source": [
    "Visualize Roadmap"
   ]
  },
  {
   "cell_type": "code",
   "execution_count": null,
   "id": "ec2b0fe7",
   "metadata": {},
   "outputs": [],
   "source": [
    "for i, item in enumerate(roadmap):\n",
    "    print(f\"{i+1}. {item['title']} ({item['category']} - {item['location']})\")"
   ]
  }
 ],
 "metadata": {
  "kernelspec": {
   "display_name": "venv",
   "language": "python",
   "name": "python3"
  },
  "language_info": {
   "codemirror_mode": {
    "name": "ipython",
    "version": 3
   },
   "file_extension": ".py",
   "mimetype": "text/x-python",
   "name": "python",
   "nbconvert_exporter": "python",
   "pygments_lexer": "ipython3",
   "version": "3.10.11"
  }
 },
 "nbformat": 4,
 "nbformat_minor": 5
}
