{
 "cells": [
  {
   "cell_type": "code",
   "execution_count": 16,
   "id": "1bcbfff1",
   "metadata": {},
   "outputs": [],
   "source": [
    "import json\n",
    "import matplotlib.pyplot as plt\n",
    "import networkx as nx\n",
    "\n",
    "with open(\"safaris_30_items_enhanced.json\", \"r\", encoding=\"utf-8\") as f:\n",
    "    tours = json.load(f)"
   ]
  },
  {
   "cell_type": "code",
   "execution_count": null,
   "id": "7fc3efe2",
   "metadata": {},
   "outputs": [],
   "source": [
    "def parse_coordinate(coord_str):\n",
    "    \"\"\"\n",
    "    Converts '7.15° N' or '79.85° E' to float values: 7.15 or 79.85\n",
    "    Assumes N and E are positive, S and W are negative.\n",
    "    \"\"\"\n",
    "    if not isinstance(coord_str, str):\n",
    "        return float(coord_str)  # already numeric\n",
    "\n",
    "    coord_str = coord_str.strip().replace(\"°\", \"\")\n",
    "    if \"N\" in coord_str or \"E\" in coord_str:\n",
    "        return float(coord_str.replace(\"N\", \"\").replace(\"E\", \"\").strip())\n",
    "    elif \"S\" in coord_str or \"W\" in coord_str:\n",
    "        return -float(coord_str.replace(\"S\", \"\").replace(\"W\", \"\").strip())\n",
    "    else:\n",
    "        return float(coord_str.strip())  # fallback"
   ]
  },
  {
   "cell_type": "code",
   "execution_count": null,
   "id": "2638c6d3",
   "metadata": {},
   "outputs": [],
   "source": [
    "from geopy.distance import geodesic\n",
    "\n",
    "def find_safaris_near_location(user_text, data):\n",
    "    user_location = \"Gampaha\"\n",
    "    user_coords = (7.15, 79.85)\n",
    "\n",
    "    results = []\n",
    "\n",
    "    for item in data:\n",
    "        features = item.get(\"extracted_features\", {})\n",
    "        if \"latitude\" not in features or \"longitude\" not in features:\n",
    "            continue  # skip if missing coords\n",
    "\n",
    "        try:\n",
    "            lat = parse_coordinate(features[\"latitude\"])\n",
    "            lon = parse_coordinate(features[\"longitude\"])\n",
    "        except:\n",
    "            continue  # skip on bad format\n",
    "\n",
    "        safari_coords = (lat, lon)\n",
    "        distance = geodesic(user_coords, safari_coords).km\n",
    "\n",
    "        if features.get(\"district\", \"\").lower() == user_location.lower() or distance <= 50:\n",
    "            item[\"distance_km\"] = round(distance, 2)\n",
    "            results.append(item)\n",
    "\n",
    "    sorted_results = sorted(results, key=lambda x: (-float(x.get(\"rating\", 0)), x[\"distance_km\"]))\n",
    "    return sorted_results"
   ]
  },
  {
   "cell_type": "code",
   "execution_count": 18,
   "id": "2403cdc4",
   "metadata": {},
   "outputs": [],
   "source": [
    "user_query = \"near Ratnapura\"\n",
    "matching_tours = find_safaris_near_location(user_query, tours)\n",
    "\n",
    "# Make it into a roadmap\n",
    "roadmap = matching_tours[:5]  # take top 5 for now\n"
   ]
  },
  {
   "cell_type": "code",
   "execution_count": 19,
   "id": "781043c3",
   "metadata": {},
   "outputs": [],
   "source": [
    "import networkx as nx\n",
    "import matplotlib.pyplot as plt\n",
    "\n",
    "def visualize_roadmap_graph(roadmap):\n",
    "    if not roadmap:\n",
    "        print(\"🚫 No roadmap to display.\")\n",
    "        return\n",
    "\n",
    "    G = nx.DiGraph()\n",
    "\n",
    "    labels = {}\n",
    "    for idx, item in enumerate(roadmap):\n",
    "        title = item[\"title\"]\n",
    "        park = item[\"extracted_features\"][\"park_names\"][0] if item[\"extracted_features\"].get(\"park_names\") else \"Unknown\"\n",
    "        label = f\"{idx+1}. {park}\\n⭐{item.get('rating', '?')}\"\n",
    "        G.add_node(title)\n",
    "        labels[title] = label\n",
    "\n",
    "    # Add edges to form a path\n",
    "    for i in range(len(roadmap) - 1):\n",
    "        G.add_edge(roadmap[i][\"title\"], roadmap[i+1][\"title\"])\n",
    "\n",
    "    pos = nx.spring_layout(G, seed=42)\n",
    "    plt.figure(figsize=(14, 8))\n",
    "    nx.draw_networkx_nodes(G, pos, node_size=2500)\n",
    "    nx.draw_networkx_edges(G, pos, arrows=True, arrowsize=20, connectionstyle='arc3,rad=0.2')\n",
    "    nx.draw_networkx_labels(G, pos, labels=labels, font_size=9)\n",
    "\n",
    "    plt.title(\"🗺️ Safari Tour Roadmap (Graph View)\", fontsize=14)\n",
    "    plt.axis(\"off\")\n",
    "    plt.tight_layout()\n",
    "    plt.show()\n"
   ]
  },
  {
   "cell_type": "code",
   "execution_count": 20,
   "id": "54ec5169",
   "metadata": {},
   "outputs": [
    {
     "name": "stdout",
     "output_type": "stream",
     "text": [
      "🚫 No roadmap to display.\n"
     ]
    }
   ],
   "source": [
    "visualize_roadmap_graph(roadmap)\n"
   ]
  }
 ],
 "metadata": {
  "kernelspec": {
   "display_name": "venv",
   "language": "python",
   "name": "python3"
  },
  "language_info": {
   "codemirror_mode": {
    "name": "ipython",
    "version": 3
   },
   "file_extension": ".py",
   "mimetype": "text/x-python",
   "name": "python",
   "nbconvert_exporter": "python",
   "pygments_lexer": "ipython3",
   "version": "3.10.11"
  }
 },
 "nbformat": 4,
 "nbformat_minor": 5
}
