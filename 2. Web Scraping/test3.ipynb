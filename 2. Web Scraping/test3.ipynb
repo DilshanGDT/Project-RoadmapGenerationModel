{
 "cells": [
  {
   "cell_type": "code",
   "execution_count": 1,
   "id": "391cb4e4",
   "metadata": {},
   "outputs": [],
   "source": [
    "# Cell 1: Import Libraries\n",
    "import requests\n",
    "from bs4 import BeautifulSoup\n",
    "import logging\n",
    "import csv\n",
    "import time"
   ]
  },
  {
   "cell_type": "code",
   "execution_count": 2,
   "id": "aa23d94a",
   "metadata": {},
   "outputs": [
    {
     "name": "stdout",
     "output_type": "stream",
     "text": [
      "Headers configured successfully\n"
     ]
    }
   ],
   "source": [
    "# Cell 2: Set up URL and Headers\n",
    "url = 'https://www.tripadvisor.com/Attractions-g293961-Activities-c61-t243-Sri_Lanka.html'\n",
    "\n",
    "headers = {\n",
    "    \"User-Agent\": 'Mozilla/5.0 (Windows NT 10.0; Win64; x64) AppleWebKit/537.36 (KHTML, like Gecko) Chrome/119.0.0.0 Safari/537.36',\n",
    "    \"Accept\": \"text/html,application/xhtml+xml,application/xml;q=0.9,image/webp,*/*;q=0.8\",\n",
    "    \"Accept-Language\": \"en-US,en;q=0.5\",\n",
    "    # Note: Removed Accept-Encoding to fix garbled text issue\n",
    "    \"DNT\": \"1\",\n",
    "    \"Connection\": \"keep-alive\",\n",
    "    \"Upgrade-Insecure-Requests\": \"1\",\n",
    "}\n",
    "\n",
    "print(\"Headers configured successfully\")"
   ]
  },
  {
   "cell_type": "code",
   "execution_count": 3,
   "id": "ac7dec8e",
   "metadata": {},
   "outputs": [
    {
     "name": "stdout",
     "output_type": "stream",
     "text": [
      "✅ Status Code: 200\n",
      "📦 Content Encoding: gzip\n",
      "📄 Content Type: text/html; charset=utf-8\n",
      "📏 Content Length: 1979930 bytes\n"
     ]
    }
   ],
   "source": [
    "# Cell 3: Create Session and Make Request\n",
    "session = requests.Session()\n",
    "session.headers.update(headers)\n",
    "\n",
    "try:\n",
    "    response = session.get(url, timeout=10)\n",
    "    response.raise_for_status()\n",
    "    \n",
    "    print(f\"✅ Status Code: {response.status_code}\")\n",
    "    print(f\"📦 Content Encoding: {response.headers.get('Content-Encoding', 'None')}\")\n",
    "    print(f\"📄 Content Type: {response.headers.get('Content-Type', 'None')}\")\n",
    "    print(f\"📏 Content Length: {len(response.content)} bytes\")\n",
    "    \n",
    "except requests.exceptions.RequestException as e:\n",
    "    print(f\"❌ Request failed: {e}\")"
   ]
  },
  {
   "cell_type": "code",
   "execution_count": 4,
   "id": "9117b0eb",
   "metadata": {},
   "outputs": [
    {
     "name": "stdout",
     "output_type": "stream",
     "text": [
      "🔤 Detected encoding: utf-8\n",
      "📝 Response text length: 1979799 characters\n"
     ]
    }
   ],
   "source": [
    "# Cell 4: Handle Text Encoding\n",
    "# Ensure proper encoding to avoid garbled text\n",
    "response.encoding = response.apparent_encoding or 'utf-8'\n",
    "\n",
    "print(f\"🔤 Detected encoding: {response.encoding}\")\n",
    "print(f\"📝 Response text length: {len(response.text)} characters\")"
   ]
  },
  {
   "cell_type": "code",
   "execution_count": 5,
   "id": "646df353",
   "metadata": {},
   "outputs": [
    {
     "name": "stdout",
     "output_type": "stream",
     "text": [
      "🍲 BeautifulSoup parsing completed\n",
      "📊 Found 7121 HTML elements\n"
     ]
    }
   ],
   "source": [
    "# Cell 5: Parse with BeautifulSoup\n",
    "soup = BeautifulSoup(response.text, 'html.parser')\n",
    "\n",
    "print(\"🍲 BeautifulSoup parsing completed\")\n",
    "print(f\"📊 Found {len(soup.find_all())} HTML elements\")"
   ]
  },
  {
   "cell_type": "code",
   "execution_count": 6,
   "id": "beb62c2f",
   "metadata": {},
   "outputs": [
    {
     "name": "stdout",
     "output_type": "stream",
     "text": [
      "🔍 First 500 characters of parsed content:\n",
      "==================================================\n",
      "<!DOCTYPE html>\n",
      "<html lang=\"en-US\">\n",
      " <head>\n",
      "  <link href=\"https://static.tacdn.com/img2/brand_refresh_2025/application_icons/favicon_2025.ico\" id=\"favicon\" rel=\"icon\" type=\"image/x-icon\"/>\n",
      "  <link href=\"https://static.tacdn.com/img2/brand_refresh_2025/application_icons/icon.svg\" rel=\"icon\" type=\"image/svg+xml\"/>\n",
      "  <link href=\"https://static.tacdn.com/img2/brand_refresh_2025/application_icons/apple_touch_icon.png\" rel=\"apple-touch-icon\" sizes=\"180x180\"/>\n",
      "  <link color=\"#00210c\" href=\"https://stat\n",
      "==================================================\n"
     ]
    }
   ],
   "source": [
    "# Cell 6: Test the Parsed Content\n",
    "# Display first 500 characters to verify it's readable\n",
    "print(\"🔍 First 500 characters of parsed content:\")\n",
    "print(\"=\" * 50)\n",
    "print(soup.prettify()[:500])\n",
    "print(\"=\" * 50)"
   ]
  },
  {
   "cell_type": "code",
   "execution_count": 7,
   "id": "389e712e",
   "metadata": {},
   "outputs": [],
   "source": [
    "with open(\"scraped_page.txt\", \"w\", encoding=\"utf-8\") as file:\n",
    "    file.write(soup.prettify())"
   ]
  },
  {
   "cell_type": "code",
   "execution_count": 8,
   "id": "f1fb081f",
   "metadata": {},
   "outputs": [
    {
     "name": "stdout",
     "output_type": "stream",
     "text": [
      "🏪 found: 1. Private Jeep Safari at Minneriya National Park to Visit Elephants\n"
     ]
    }
   ],
   "source": [
    "# Cell 7: Check for Common TripAdvisor Elements\n",
    "# Test if we can find typical TripAdvisor elements\n",
    "card_name = soup.find('h3')\n",
    "if card_name:\n",
    "    print(f\"🏪 found: {card_name.get_text().strip()}\")\n",
    "else:\n",
    "    print(\"⚠️ not found - might be blocked or structure changed\")"
   ]
  },
  {
   "cell_type": "code",
   "execution_count": 9,
   "id": "7cee6081",
   "metadata": {},
   "outputs": [
    {
     "ename": "AttributeError",
     "evalue": "'NoneType' object has no attribute 'text'",
     "output_type": "error",
     "traceback": [
      "\u001b[1;31m---------------------------------------------------------------------------\u001b[0m",
      "\u001b[1;31mAttributeError\u001b[0m                            Traceback (most recent call last)",
      "Cell \u001b[1;32mIn[9], line 1\u001b[0m\n\u001b[1;32m----> 1\u001b[0m general_infos \u001b[38;5;241m=\u001b[39m \u001b[43msoup\u001b[49m\u001b[38;5;241;43m.\u001b[39;49m\u001b[43mfind\u001b[49m\u001b[43m(\u001b[49m\u001b[38;5;124;43m'\u001b[39;49m\u001b[38;5;124;43mdiv\u001b[39;49m\u001b[38;5;124;43m'\u001b[39;49m\u001b[43m,\u001b[49m\u001b[43m \u001b[49m\u001b[43mclass_\u001b[49m\u001b[38;5;241;43m=\u001b[39;49m\u001b[38;5;124;43m'\u001b[39;49m\u001b[38;5;124;43mbiGQs _P pZUbB hmDzD\u001b[39;49m\u001b[38;5;124;43m'\u001b[39;49m\u001b[43m)\u001b[49m\u001b[38;5;241;43m.\u001b[39;49m\u001b[43mtext\u001b[49m\u001b[38;5;241m.\u001b[39mstrip()\n\u001b[0;32m      2\u001b[0m \u001b[38;5;28mprint\u001b[39m(general_infos)\n",
      "\u001b[1;31mAttributeError\u001b[0m: 'NoneType' object has no attribute 'text'"
     ]
    }
   ],
   "source": [
    "general_infos = soup.find('div', class_='biGQs _P pZUbB hmDzD').text.strip()\n",
    "print(general_infos)"
   ]
  },
  {
   "cell_type": "code",
   "execution_count": null,
   "id": "c707ec04",
   "metadata": {},
   "outputs": [],
   "source": [
    "sections = soup.find_all('section', class_='mowmC')"
   ]
  },
  {
   "cell_type": "code",
   "execution_count": null,
   "id": "fd947d6b",
   "metadata": {},
   "outputs": [
    {
     "name": "stdout",
     "output_type": "stream",
     "text": [
      "Title: 1. Private Jeep Safari at Minneriya National Park to Visit Elephants\n",
      "Rating: 4.9\n",
      "Recommendation: Recommended by 98% of travelers\n",
      "Total Reviews: 210\n",
      "Types: 4WD Tours\n",
      "Duration: 3–4 hours\n",
      "Caution: Attention: According to the weather conditions, Minneriya National Park is the best these days. You can see a huge number…\n",
      "\n",
      "Title: 2. Special leopards safari Yala National park - 04.30 am to 11.30 am\n",
      "Rating: 4.9\n",
      "Recommendation: Recommended by 97% of travelers\n",
      "Total Reviews: 154\n",
      "Types: Private and Luxury\n",
      "Duration: 6+ hours\n",
      "Caution: People who like to see more wild life this is the perfect tour with janaka safari,\n",
      "\n",
      "we do our best for the leopard. start…\n",
      "\n",
      "Title: 3. Wilpattu National Park Jeep Safari from Negombo / Waikkal (All Inclusive)\n",
      "Rating: 4.9\n",
      "Recommendation: Recommended by 98% of travelers\n",
      "Total Reviews: 83\n",
      "Types: 4WD Tours\n",
      "Duration: 10–16 hours\n",
      "Caution: Today you will enjoy an adventurous full-day safari at Wilpattu National Park including breakfast and lunch at the Park. …\n",
      "\n"
     ]
    },
    {
     "ename": "AttributeError",
     "evalue": "'NoneType' object has no attribute 'text'",
     "output_type": "error",
     "traceback": [
      "\u001b[1;31m---------------------------------------------------------------------------\u001b[0m",
      "\u001b[1;31mAttributeError\u001b[0m                            Traceback (most recent call last)",
      "Cell \u001b[1;32mIn[103], line 22\u001b[0m\n\u001b[0;32m     19\u001b[0m \u001b[38;5;28;01mif\u001b[39;00m \u001b[38;5;28mlen\u001b[39m(others) \u001b[38;5;241m>\u001b[39m \u001b[38;5;241m4\u001b[39m:\n\u001b[0;32m     20\u001b[0m     caution \u001b[38;5;241m=\u001b[39m others[\u001b[38;5;241m4\u001b[39m]\n\u001b[1;32m---> 22\u001b[0m \u001b[38;5;28mprint\u001b[39m(\u001b[38;5;124mf\u001b[39m\u001b[38;5;124m\"\u001b[39m\u001b[38;5;124mTitle: \u001b[39m\u001b[38;5;132;01m{\u001b[39;00m\u001b[43mtitle\u001b[49m\u001b[38;5;241;43m.\u001b[39;49m\u001b[43mtext\u001b[49m\u001b[38;5;132;01m}\u001b[39;00m\u001b[38;5;124m\"\u001b[39m)\n\u001b[0;32m     23\u001b[0m \u001b[38;5;28mprint\u001b[39m(\u001b[38;5;124mf\u001b[39m\u001b[38;5;124m\"\u001b[39m\u001b[38;5;124mRating: \u001b[39m\u001b[38;5;132;01m{\u001b[39;00mrating\u001b[38;5;241m.\u001b[39mtext\u001b[38;5;132;01m}\u001b[39;00m\u001b[38;5;124m\"\u001b[39m) \n\u001b[0;32m     24\u001b[0m \u001b[38;5;28mprint\u001b[39m(\u001b[38;5;124mf\u001b[39m\u001b[38;5;124m\"\u001b[39m\u001b[38;5;124mRecommendation: \u001b[39m\u001b[38;5;132;01m{\u001b[39;00mrecomendation[\u001b[38;5;241m1\u001b[39m]\u001b[38;5;241m.\u001b[39mtext\u001b[38;5;132;01m}\u001b[39;00m\u001b[38;5;124m\"\u001b[39m)\n",
      "\u001b[1;31mAttributeError\u001b[0m: 'NoneType' object has no attribute 'text'"
     ]
    }
   ],
   "source": [
    "sections = soup.find_all('section', class_='mowmC')\n",
    "\n",
    "for section in sections:\n",
    "    title = section.find('h3')\n",
    "    rating = section.find('div', class_='biGQs _P pZUbB hmDzD')\n",
    "    recomendation = section.find_all('span', class_='biGQs _P pZUbB egaXP hmDzD')\n",
    "    \n",
    "    others = section.find_all('div', class_='biGQs _P pZUbB hmDzD')\n",
    "\n",
    "    # Initialize variables as None (or some default value)\n",
    "    total_reviews = types = duration = caution = None\n",
    "\n",
    "    if len(others) > 1:\n",
    "        total_reviews = others[1]\n",
    "    if len(others) > 2:\n",
    "        types = others[2]\n",
    "    if len(others) > 3:\n",
    "        duration = others[3]\n",
    "    if len(others) > 4:\n",
    "        caution = others[4]\n",
    "\n",
    "    print(f\"Title: {title.text}\")\n",
    "    print(f\"Rating: {rating.text}\") \n",
    "    print(f\"Recommendation: {recomendation[1].text}\")\n",
    "    print(f\"Total Reviews: {total_reviews.text.strip()}\")\n",
    "    print(f\"Types: {types.text.strip()}\")\n",
    "    print(f\"Duration: {duration.text.strip()}\")\n",
    "    print(f\"Caution: {caution.text.strip()}\")\n",
    "    print(\"\")\n"
   ]
  },
  {
   "cell_type": "code",
   "execution_count": null,
   "id": "39db9eee",
   "metadata": {},
   "outputs": [
    {
     "name": "stdout",
     "output_type": "stream",
     "text": [
      "1. Private Jeep Safari at Minneriya National Park to Visit Elephants\n",
      "2. Special leopards safari Yala National park - 04.30 am to 11.30 am\n",
      "3. Wilpattu National Park Jeep Safari from Negombo / Waikkal (All Inclusive)\n",
      "4. Yala National Park Wildlife Safari/ Game Drive - by Ajith Safari\n",
      "5. Full day / Half Day WildlifeAdventure in Yala-National-Park \n",
      "6. 2h Bentota River Safari: Crocodiles, Monkeys, Mangrove & more\n",
      "7. Udawalawe National Park Half Day Jeep Safari (Private Tour)\n",
      "8. Minneriya National Park halfday Safari\n",
      "9. Udawalawe Safari DayTrip frm Bentota/Kalutara/Ahungalla/Hikkaduwa\n",
      "10. Negombo Lagoon Boat Safari From Negombo\n",
      "11. Yala National Park Special Leopard Safari Tours By Dinuka Safari\n",
      "12. Private Jeep Safari at Minneriya National Park - Half Day Tour\n",
      "13. Full day Safari - Yala National Park - 04.30 am to 06.00 pm with - Janaka safari\n",
      "14. Ella: Transfer to Tangalle/Mirissa/Galle & Yala/Udawalawe Safari\n",
      "15. Udawalawe National Park | Private Safari Tour \n",
      "16. Wilpattu National Park Safari | Jeep with Tickets\n",
      "17. Yala National Park Tour From Hambantota Port \n",
      "18. Bentota River Safari By BTM (Mangrove & Wildlife Encounter)\n",
      "19. Yala National Park Safari Tours - Half Day & Full Day\n",
      "20. Kumana National Park Half Day Jeep Safari \n",
      "21. Bundala National Park Birds Watching Safari Tour\n",
      "22. Leopard Safari Tour in Yala National Park\n",
      "23. Yala National Park Safari Tour From Hambantota port\n",
      "24. Day Excursion from Colombo to Yala Safari (Leopard Safari Tour)\n",
      "25. Ella to Mirissa Shuttle & Safari Drive (Breakfast Included)\n",
      "26. Yala National Park Safari Tours -Half Day & Full Day\n",
      "27. Yala National Park Morning or Afternoon Leopard Safari\n",
      "28. Minneriya National Park Elephant Jeep Safari Private Tour\n",
      "29. Half Day Tour to Muthurajawela, Lagoon, Dutch Canal and Mangroves\n",
      "30. Safari Tour at Minneriya National Park\n"
     ]
    }
   ],
   "source": [
    "headers = soup.find_all('h3')\n",
    "\n",
    "for header in headers:\n",
    "    print(header.text)"
   ]
  },
  {
   "cell_type": "code",
   "execution_count": null,
   "id": "54714c98",
   "metadata": {},
   "outputs": [],
   "source": [
    "# Cell 8: Clean up\n",
    "session.close()\n",
    "print(\"🔒 Session closed successfully\")"
   ]
  }
 ],
 "metadata": {
  "kernelspec": {
   "display_name": "venv",
   "language": "python",
   "name": "python3"
  },
  "language_info": {
   "codemirror_mode": {
    "name": "ipython",
    "version": 3
   },
   "file_extension": ".py",
   "mimetype": "text/x-python",
   "name": "python",
   "nbconvert_exporter": "python",
   "pygments_lexer": "ipython3",
   "version": "3.10.11"
  }
 },
 "nbformat": 4,
 "nbformat_minor": 5
}
