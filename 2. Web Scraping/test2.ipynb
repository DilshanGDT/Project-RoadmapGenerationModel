{
 "cells": [
  {
   "cell_type": "code",
   "execution_count": 1,
   "id": "391cb4e4",
   "metadata": {},
   "outputs": [],
   "source": [
    "# Cell 1: Import Libraries\n",
    "import requests\n",
    "from bs4 import BeautifulSoup\n",
    "import logging\n",
    "import csv\n",
    "import time"
   ]
  },
  {
   "cell_type": "code",
   "execution_count": 2,
   "id": "aa23d94a",
   "metadata": {},
   "outputs": [
    {
     "name": "stdout",
     "output_type": "stream",
     "text": [
      "Headers configured successfully\n"
     ]
    }
   ],
   "source": [
    "# Cell 2: Set up URL and Headers\n",
    "url = 'https://www.tripadvisor.com/Restaurant_Review-g60763-d478965-Reviews-Gallaghers_Steakhouse-New_York_City_New_York.html'\n",
    "\n",
    "headers = {\n",
    "    \"User-Agent\": 'Mozilla/5.0 (Windows NT 10.0; Win64; x64) AppleWebKit/537.36 (KHTML, like Gecko) Chrome/119.0.0.0 Safari/537.36',\n",
    "    \"Accept\": \"text/html,application/xhtml+xml,application/xml;q=0.9,image/webp,*/*;q=0.8\",\n",
    "    \"Accept-Language\": \"en-US,en;q=0.5\",\n",
    "    # Note: Removed Accept-Encoding to fix garbled text issue\n",
    "    \"DNT\": \"1\",\n",
    "    \"Connection\": \"keep-alive\",\n",
    "    \"Upgrade-Insecure-Requests\": \"1\",\n",
    "}\n",
    "\n",
    "print(\"Headers configured successfully\")"
   ]
  },
  {
   "cell_type": "code",
   "execution_count": 3,
   "id": "ac7dec8e",
   "metadata": {},
   "outputs": [
    {
     "name": "stdout",
     "output_type": "stream",
     "text": [
      "✅ Status Code: 200\n",
      "📦 Content Encoding: gzip\n",
      "📄 Content Type: text/html; charset=utf-8\n",
      "📏 Content Length: 910296 bytes\n"
     ]
    }
   ],
   "source": [
    "# Cell 3: Create Session and Make Request\n",
    "session = requests.Session()\n",
    "session.headers.update(headers)\n",
    "\n",
    "try:\n",
    "    response = session.get(url, timeout=10)\n",
    "    response.raise_for_status()\n",
    "    \n",
    "    print(f\"✅ Status Code: {response.status_code}\")\n",
    "    print(f\"📦 Content Encoding: {response.headers.get('Content-Encoding', 'None')}\")\n",
    "    print(f\"📄 Content Type: {response.headers.get('Content-Type', 'None')}\")\n",
    "    print(f\"📏 Content Length: {len(response.content)} bytes\")\n",
    "    \n",
    "except requests.exceptions.RequestException as e:\n",
    "    print(f\"❌ Request failed: {e}\")"
   ]
  },
  {
   "cell_type": "code",
   "execution_count": 4,
   "id": "9117b0eb",
   "metadata": {},
   "outputs": [
    {
     "name": "stdout",
     "output_type": "stream",
     "text": [
      "🔤 Detected encoding: utf-8\n",
      "📝 Response text length: 910143 characters\n"
     ]
    }
   ],
   "source": [
    "# Cell 4: Handle Text Encoding\n",
    "# Ensure proper encoding to avoid garbled text\n",
    "response.encoding = response.apparent_encoding or 'utf-8'\n",
    "\n",
    "print(f\"🔤 Detected encoding: {response.encoding}\")\n",
    "print(f\"📝 Response text length: {len(response.text)} characters\")"
   ]
  },
  {
   "cell_type": "code",
   "execution_count": 5,
   "id": "646df353",
   "metadata": {},
   "outputs": [
    {
     "name": "stdout",
     "output_type": "stream",
     "text": [
      "🍲 BeautifulSoup parsing completed\n",
      "📊 Found 4376 HTML elements\n"
     ]
    }
   ],
   "source": [
    "# Cell 5: Parse with BeautifulSoup\n",
    "soup = BeautifulSoup(response.text, 'html.parser')\n",
    "\n",
    "print(\"🍲 BeautifulSoup parsing completed\")\n",
    "print(f\"📊 Found {len(soup.find_all())} HTML elements\")"
   ]
  },
  {
   "cell_type": "code",
   "execution_count": 6,
   "id": "beb62c2f",
   "metadata": {},
   "outputs": [
    {
     "name": "stdout",
     "output_type": "stream",
     "text": [
      "🔍 First 500 characters of parsed content:\n",
      "==================================================\n",
      "<!DOCTYPE html>\n",
      "<html lang=\"en-US\">\n",
      " <head>\n",
      "  <link href=\"https://static.tacdn.com/img2/brand_refresh_2025/application_icons/favicon_2025.ico\" id=\"favicon\" rel=\"icon\" type=\"image/x-icon\"/>\n",
      "  <link href=\"https://static.tacdn.com/img2/brand_refresh_2025/application_icons/icon.svg\" rel=\"icon\" type=\"image/svg+xml\"/>\n",
      "  <link href=\"https://static.tacdn.com/img2/brand_refresh_2025/application_icons/apple_touch_icon.png\" rel=\"apple-touch-icon\" sizes=\"180x180\"/>\n",
      "  <link color=\"#00210c\" href=\"https://stat\n",
      "==================================================\n"
     ]
    }
   ],
   "source": [
    "# Cell 6: Test the Parsed Content\n",
    "# Display first 500 characters to verify it's readable\n",
    "print(\"🔍 First 500 characters of parsed content:\")\n",
    "print(\"=\" * 50)\n",
    "print(soup.prettify()[:500])\n",
    "print(\"=\" * 50)"
   ]
  },
  {
   "cell_type": "code",
   "execution_count": 7,
   "id": "f1fb081f",
   "metadata": {},
   "outputs": [
    {
     "name": "stdout",
     "output_type": "stream",
     "text": [
      "🏪 Restaurant name found: Gallaghers Steakhouse\n"
     ]
    }
   ],
   "source": [
    "# Cell 7: Check for Common TripAdvisor Elements\n",
    "# Test if we can find typical TripAdvisor elements\n",
    "restaurant_name = soup.find('h1')\n",
    "if restaurant_name:\n",
    "    print(f\"🏪 Restaurant name found: {restaurant_name.get_text().strip()}\")\n",
    "else:\n",
    "    print(\"⚠️ Restaurant name not found - might be blocked or structure changed\")"
   ]
  },
  {
   "cell_type": "code",
   "execution_count": 8,
   "id": "7cee6081",
   "metadata": {},
   "outputs": [
    {
     "name": "stdout",
     "output_type": "stream",
     "text": [
      "4.44.4 of 5 bubbles(6,149 reviews) #45 of 12,852 Restaurants in New York CitySeafood, Steakhouse, $$$$\n"
     ]
    }
   ],
   "source": [
    "general_infos = soup.find('div', class_='CsAqy').text.strip()\n",
    "print(general_infos)"
   ]
  },
  {
   "cell_type": "code",
   "execution_count": 9,
   "id": "54714c98",
   "metadata": {},
   "outputs": [
    {
     "name": "stdout",
     "output_type": "stream",
     "text": [
      "🔒 Session closed successfully\n"
     ]
    }
   ],
   "source": [
    "# Cell 8: Clean up\n",
    "session.close()\n",
    "print(\"🔒 Session closed successfully\")"
   ]
  }
 ],
 "metadata": {
  "kernelspec": {
   "display_name": "venv",
   "language": "python",
   "name": "python3"
  },
  "language_info": {
   "codemirror_mode": {
    "name": "ipython",
    "version": 3
   },
   "file_extension": ".py",
   "mimetype": "text/x-python",
   "name": "python",
   "nbconvert_exporter": "python",
   "pygments_lexer": "ipython3",
   "version": "3.10.11"
  }
 },
 "nbformat": 4,
 "nbformat_minor": 5
}
